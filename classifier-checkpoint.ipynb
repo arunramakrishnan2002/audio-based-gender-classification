{
 "cells": [
  {
   "cell_type": "code",
   "execution_count": 1,
   "metadata": {},
   "outputs": [],
   "source": [
    "import os\n",
    "import shutil\n",
    "import random\n",
    "import librosa\n",
    "import numpy as np\n",
    "import pandas as pd\n",
    "from pydub import AudioSegment\n",
    "import IPython\n",
    "from scipy.io import wavfile\n",
    "import scipy.signal\n",
    "import matplotlib.pyplot as plt\n",
    "%matplotlib inline\n",
    "import time\n",
    "import soundfile as sf\n",
    "from datetime import timedelta as td\n",
    "from sklearn.preprocessing import StandardScaler\n",
    "from sklearn.decomposition import PCA\n",
    "from sklearn.cluster import KMeans\n",
    "from sklearn.cluster import AgglomerativeClustering\n",
    "from sklearn import metrics\n",
    "import seaborn as sns"
   ]
  },
  {
   "cell_type": "code",
   "execution_count": 2,
   "metadata": {},
   "outputs": [],
   "source": [
    "def extract_mfcc(file):\n",
    "    y, sr= librosa.load(file)\n",
    "    feature_arr=librosa.feature.mfcc(y=y, sr=sr, n_mfcc=40)\n",
    "    scaled_feature_arr = np.mean(feature_arr.T, axis=0)\n",
    "    return scaled_feature_arr"
   ]
  },
  {
   "cell_type": "code",
   "execution_count": 15,
   "metadata": {},
   "outputs": [],
   "source": [
    "def convert_wav(file_path,main_dir):\n",
    "    wav_file=\"\"\n",
    "    file_name=os.path.basename(file_path)\n",
    "    wav_dir=main_dir+\"\\\\VoxCeleb_gender\\\\wav_files\\\\\"\n",
    "    if(file_path.endswith(\".m4a\")):\n",
    "        audio = AudioSegment.from_file(file_path, format=\"m4a\")\n",
    "        wav_file = wav_dir+file_name.split(\".\")[0] + \".wav\"\n",
    "        audio.export(wav_file, format=\"wav\")\n",
    "    elif(file_path.endswith(\".mp4\")):\n",
    "        audio = AudioSegment.from_file(file_path, format=\"mp4\")\n",
    "        wav_file= wav_dir+file_name.split(\".\")[0] + \".wav\"\n",
    "        audio.export(wav_file, format=\"wav\")\n",
    "    elif(file_path.endswith(\".mp3\")):\n",
    "        audio = AudioSegment.from_file(file_path, format=\"mp3\")\n",
    "        wav_file = wav_dir+file_name.split(\".\")[0] + \".wav\"\n",
    "        audio.export(wav_file, format=\"wav\")\n",
    "    elif(file_path.endswith(\".wav\")):\n",
    "        wav_file=wav_dir+file_name\n",
    "    return wav_file"
   ]
  },
  {
   "cell_type": "code",
   "execution_count": 17,
   "metadata": {},
   "outputs": [
    {
     "ename": "TypeError",
     "evalue": "Invalid file: ['c:\\\\Users\\\\Arun\\\\OneDrive\\\\Desktop\\\\CSE\\\\gender_classifier\\\\VoxCeleb_gender\\\\wav_files\\\\1896.wav']",
     "output_type": "error",
     "traceback": [
      "\u001b[1;31m---------------------------------------------------------------------------\u001b[0m",
      "\u001b[1;31mTypeError\u001b[0m                                 Traceback (most recent call last)",
      "Cell \u001b[1;32mIn [17], line 30\u001b[0m\n\u001b[0;32m     28\u001b[0m wav_file\u001b[39m=\u001b[39mconvert_wav(file,main_dir)\n\u001b[0;32m     29\u001b[0m filepath_arr\u001b[39m.\u001b[39mappend(wav_file)\n\u001b[1;32m---> 30\u001b[0m scaled_feature_array\u001b[39m=\u001b[39mextract_mfcc(filepath_arr)\n\u001b[0;32m     31\u001b[0m features_df\u001b[39m=\u001b[39mpd\u001b[39m.\u001b[39mDataFrame(data\u001b[39m=\u001b[39mscaled_feature_array)\n\u001b[0;32m     32\u001b[0m features_df\u001b[39m=\u001b[39mfeatures_df\u001b[39m.\u001b[39mtranspose()\n",
      "Cell \u001b[1;32mIn [2], line 2\u001b[0m, in \u001b[0;36mextract_mfcc\u001b[1;34m(file)\u001b[0m\n\u001b[0;32m      1\u001b[0m \u001b[39mdef\u001b[39;00m \u001b[39mextract_mfcc\u001b[39m(file):\n\u001b[1;32m----> 2\u001b[0m     y, sr\u001b[39m=\u001b[39m librosa\u001b[39m.\u001b[39;49mload(file)\n\u001b[0;32m      3\u001b[0m     feature_arr\u001b[39m=\u001b[39mlibrosa\u001b[39m.\u001b[39mfeature\u001b[39m.\u001b[39mmfcc(y\u001b[39m=\u001b[39my, sr\u001b[39m=\u001b[39msr, n_mfcc\u001b[39m=\u001b[39m\u001b[39m40\u001b[39m)\n\u001b[0;32m      4\u001b[0m     scaled_feature_arr \u001b[39m=\u001b[39m np\u001b[39m.\u001b[39mmean(feature_arr\u001b[39m.\u001b[39mT, axis\u001b[39m=\u001b[39m\u001b[39m0\u001b[39m)\n",
      "File \u001b[1;32mc:\\Users\\Arun\\AppData\\Local\\Programs\\Python\\Python310\\lib\\site-packages\\librosa\\util\\decorators.py:88\u001b[0m, in \u001b[0;36mdeprecate_positional_args.<locals>._inner_deprecate_positional_args.<locals>.inner_f\u001b[1;34m(*args, **kwargs)\u001b[0m\n\u001b[0;32m     86\u001b[0m extra_args \u001b[39m=\u001b[39m \u001b[39mlen\u001b[39m(args) \u001b[39m-\u001b[39m \u001b[39mlen\u001b[39m(all_args)\n\u001b[0;32m     87\u001b[0m \u001b[39mif\u001b[39;00m extra_args \u001b[39m<\u001b[39m\u001b[39m=\u001b[39m \u001b[39m0\u001b[39m:\n\u001b[1;32m---> 88\u001b[0m     \u001b[39mreturn\u001b[39;00m f(\u001b[39m*\u001b[39margs, \u001b[39m*\u001b[39m\u001b[39m*\u001b[39mkwargs)\n\u001b[0;32m     90\u001b[0m \u001b[39m# extra_args > 0\u001b[39;00m\n\u001b[0;32m     91\u001b[0m args_msg \u001b[39m=\u001b[39m [\n\u001b[0;32m     92\u001b[0m     \u001b[39m\"\u001b[39m\u001b[39m{}\u001b[39;00m\u001b[39m=\u001b[39m\u001b[39m{}\u001b[39;00m\u001b[39m\"\u001b[39m\u001b[39m.\u001b[39mformat(name, arg)\n\u001b[0;32m     93\u001b[0m     \u001b[39mfor\u001b[39;00m name, arg \u001b[39min\u001b[39;00m \u001b[39mzip\u001b[39m(kwonly_args[:extra_args], args[\u001b[39m-\u001b[39mextra_args:])\n\u001b[0;32m     94\u001b[0m ]\n",
      "File \u001b[1;32mc:\\Users\\Arun\\AppData\\Local\\Programs\\Python\\Python310\\lib\\site-packages\\librosa\\core\\audio.py:164\u001b[0m, in \u001b[0;36mload\u001b[1;34m(path, sr, mono, offset, duration, dtype, res_type)\u001b[0m\n\u001b[0;32m    161\u001b[0m \u001b[39melse\u001b[39;00m:\n\u001b[0;32m    162\u001b[0m     \u001b[39m# Otherwise try soundfile first, and then fall back if necessary\u001b[39;00m\n\u001b[0;32m    163\u001b[0m     \u001b[39mtry\u001b[39;00m:\n\u001b[1;32m--> 164\u001b[0m         y, sr_native \u001b[39m=\u001b[39m __soundfile_load(path, offset, duration, dtype)\n\u001b[0;32m    166\u001b[0m     \u001b[39mexcept\u001b[39;00m \u001b[39mRuntimeError\u001b[39;00m \u001b[39mas\u001b[39;00m exc:\n\u001b[0;32m    167\u001b[0m         \u001b[39m# If soundfile failed, try audioread instead\u001b[39;00m\n\u001b[0;32m    168\u001b[0m         \u001b[39mif\u001b[39;00m \u001b[39misinstance\u001b[39m(path, (\u001b[39mstr\u001b[39m, pathlib\u001b[39m.\u001b[39mPurePath)):\n",
      "File \u001b[1;32mc:\\Users\\Arun\\AppData\\Local\\Programs\\Python\\Python310\\lib\\site-packages\\librosa\\core\\audio.py:195\u001b[0m, in \u001b[0;36m__soundfile_load\u001b[1;34m(path, offset, duration, dtype)\u001b[0m\n\u001b[0;32m    192\u001b[0m     context \u001b[39m=\u001b[39m path\n\u001b[0;32m    193\u001b[0m \u001b[39melse\u001b[39;00m:\n\u001b[0;32m    194\u001b[0m     \u001b[39m# Otherwise, create the soundfile object\u001b[39;00m\n\u001b[1;32m--> 195\u001b[0m     context \u001b[39m=\u001b[39m sf\u001b[39m.\u001b[39;49mSoundFile(path)\n\u001b[0;32m    197\u001b[0m \u001b[39mwith\u001b[39;00m context \u001b[39mas\u001b[39;00m sf_desc:\n\u001b[0;32m    198\u001b[0m     sr_native \u001b[39m=\u001b[39m sf_desc\u001b[39m.\u001b[39msamplerate\n",
      "File \u001b[1;32mc:\\Users\\Arun\\AppData\\Local\\Programs\\Python\\Python310\\lib\\site-packages\\soundfile.py:655\u001b[0m, in \u001b[0;36mSoundFile.__init__\u001b[1;34m(self, file, mode, samplerate, channels, subtype, endian, format, closefd)\u001b[0m\n\u001b[0;32m    652\u001b[0m \u001b[39mself\u001b[39m\u001b[39m.\u001b[39m_mode \u001b[39m=\u001b[39m mode\n\u001b[0;32m    653\u001b[0m \u001b[39mself\u001b[39m\u001b[39m.\u001b[39m_info \u001b[39m=\u001b[39m _create_info_struct(file, mode, samplerate, channels,\n\u001b[0;32m    654\u001b[0m                                  \u001b[39mformat\u001b[39m, subtype, endian)\n\u001b[1;32m--> 655\u001b[0m \u001b[39mself\u001b[39m\u001b[39m.\u001b[39m_file \u001b[39m=\u001b[39m \u001b[39mself\u001b[39;49m\u001b[39m.\u001b[39;49m_open(file, mode_int, closefd)\n\u001b[0;32m    656\u001b[0m \u001b[39mif\u001b[39;00m \u001b[39mset\u001b[39m(mode)\u001b[39m.\u001b[39missuperset(\u001b[39m'\u001b[39m\u001b[39mr+\u001b[39m\u001b[39m'\u001b[39m) \u001b[39mand\u001b[39;00m \u001b[39mself\u001b[39m\u001b[39m.\u001b[39mseekable():\n\u001b[0;32m    657\u001b[0m     \u001b[39m# Move write position to 0 (like in Python file objects)\u001b[39;00m\n\u001b[0;32m    658\u001b[0m     \u001b[39mself\u001b[39m\u001b[39m.\u001b[39mseek(\u001b[39m0\u001b[39m)\n",
      "File \u001b[1;32mc:\\Users\\Arun\\AppData\\Local\\Programs\\Python\\Python310\\lib\\site-packages\\soundfile.py:1209\u001b[0m, in \u001b[0;36mSoundFile._open\u001b[1;34m(self, file, mode_int, closefd)\u001b[0m\n\u001b[0;32m   1206\u001b[0m     file_ptr \u001b[39m=\u001b[39m _snd\u001b[39m.\u001b[39msf_open_virtual(\u001b[39mself\u001b[39m\u001b[39m.\u001b[39m_init_virtual_io(file),\n\u001b[0;32m   1207\u001b[0m                                     mode_int, \u001b[39mself\u001b[39m\u001b[39m.\u001b[39m_info, _ffi\u001b[39m.\u001b[39mNULL)\n\u001b[0;32m   1208\u001b[0m \u001b[39melse\u001b[39;00m:\n\u001b[1;32m-> 1209\u001b[0m     \u001b[39mraise\u001b[39;00m \u001b[39mTypeError\u001b[39;00m(\u001b[39m\"\u001b[39m\u001b[39mInvalid file: \u001b[39m\u001b[39m{0!r}\u001b[39;00m\u001b[39m\"\u001b[39m\u001b[39m.\u001b[39mformat(\u001b[39mself\u001b[39m\u001b[39m.\u001b[39mname))\n\u001b[0;32m   1210\u001b[0m \u001b[39mif\u001b[39;00m file_ptr \u001b[39m==\u001b[39m _ffi\u001b[39m.\u001b[39mNULL:\n\u001b[0;32m   1211\u001b[0m     \u001b[39m# get the actual error code\u001b[39;00m\n\u001b[0;32m   1212\u001b[0m     err \u001b[39m=\u001b[39m _snd\u001b[39m.\u001b[39msf_error(file_ptr)\n",
      "\u001b[1;31mTypeError\u001b[0m: Invalid file: ['c:\\\\Users\\\\Arun\\\\OneDrive\\\\Desktop\\\\CSE\\\\gender_classifier\\\\VoxCeleb_gender\\\\wav_files\\\\1896.wav']"
     ]
    }
   ],
   "source": [
    "main_dir=os.getcwd()\n",
    "\n",
    "source_folder = main_dir+ \"\\\\VoxCeleb_gender\\\\males\\\\\"\n",
    "destination_folder = main_dir+\"\\\\VoxCeleb_gender\\\\mixed\\\\\"\n",
    "for file_name in os.listdir(source_folder):\n",
    "    source = source_folder + file_name\n",
    "    destination = destination_folder + file_name\n",
    "    if os.path.isfile(source):\n",
    "        shutil.copy(source, destination)\n",
    "\n",
    "source_folder = main_dir+\"\\\\VoxCeleb_gender\\\\females\\\\\"\n",
    "destination_folder = main_dir+\"\\\\VoxCeleb_gender\\\\mixed\\\\\"\n",
    "for file_name in os.listdir(source_folder):\n",
    "    source = source_folder + file_name\n",
    "    destination = destination_folder + file_name\n",
    "    if os.path.isfile(source):\n",
    "        shutil.copy(source, destination)\n",
    "\n",
    "\n",
    "dir_list=os.listdir(main_dir+\"\\\\VoxCeleb_gender\\\\mixed\\\\\")\n",
    "mixed_dir=random.sample(dir_list, len(dir_list))\n",
    "audio_df=pd.DataFrame() \n",
    "filepath_arr=[] \n",
    "index_arr=[]\n",
    "index_var=0\n",
    "os.chdir(main_dir+\"\\\\VoxCeleb_gender\\\\mixed\\\\\")\n",
    "for file in mixed_dir:\n",
    "    wav_file=convert_wav(file,main_dir)\n",
    "    filepath_arr.append(wav_file)\n",
    "    scaled_feature_array=extract_mfcc(filepath_arr)\n",
    "    features_df=pd.DataFrame(data=scaled_feature_array)\n",
    "    features_df=features_df.transpose()\n",
    "    audio_df=pd.concat([audio_df, features_df], axis=0)\n",
    "    index_arr.append(index_var)\n",
    "    index_var=index_var+1\n",
    "\n",
    "\n",
    "audio_df=audio_df.set_index(pd.Index(index_arr))\n",
    "final_df=audio_df.copy()\n",
    "final_df[\"file path\"]=filepath_arr"
   ]
  },
  {
   "cell_type": "code",
   "execution_count": null,
   "metadata": {},
   "outputs": [],
   "source": [
    "for i in final_df.index:\n",
    "    path=final_df[\"file path\"][i]\n",
    "    file_name = os.path.basename(path)\n",
    "    file = os.path.splitext(file_name)[0]\n",
    "    male_dir=main_dir+\"\\\\VoxCeleb_gender\\\\males\\\\\"\n",
    "    for files in os.listdir(male_dir):\n",
    "        if (file in files):\n",
    "           final_df[\"Gender\"][i]=\"MALE\"\n",
    "    female_dir=main_dir+\"\\\\VoxCeleb_gender\\\\females\\\\\"\n",
    "    for files in os.listdir(female_dir):\n",
    "        if (file in files):\n",
    "           final_df[\"Gender\"][i]=\"FEMALE\"\n",
    "final_df.to_excel(main_dir+\"\\\\VoxCeleb_gender\\\\audio_dataset.xlsx\")"
   ]
  },
  {
   "cell_type": "code",
   "execution_count": null,
   "metadata": {},
   "outputs": [],
   "source": []
  }
 ],
 "metadata": {
  "kernelspec": {
   "display_name": "Python 3 (ipykernel)",
   "language": "python",
   "name": "python3"
  },
  "language_info": {
   "codemirror_mode": {
    "name": "ipython",
    "version": 3
   },
   "file_extension": ".py",
   "mimetype": "text/x-python",
   "name": "python",
   "nbconvert_exporter": "python",
   "pygments_lexer": "ipython3",
   "version": "3.10.6"
  },
  "vscode": {
   "interpreter": {
    "hash": "ebe6247e7a1f1167b5c64aafd6f99eb52db41c0d4edef59d26ba27c8c23c0d56"
   }
  }
 },
 "nbformat": 4,
 "nbformat_minor": 4
}
